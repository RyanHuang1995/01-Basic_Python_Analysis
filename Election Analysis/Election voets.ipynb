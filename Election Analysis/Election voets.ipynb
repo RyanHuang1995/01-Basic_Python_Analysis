{
 "cells": [
  {
   "cell_type": "code",
   "execution_count": 44,
   "metadata": {},
   "outputs": [],
   "source": [
    "#Dependencie Setting\n",
    "import csv\n",
    "import os\n",
    "import operator\n",
    "election_data_1_path = \"election_data_1.csv\"\n",
    "election_data_2_path = \"election_data_2.csv\""
   ]
  },
  {
   "cell_type": "code",
   "execution_count": 55,
   "metadata": {},
   "outputs": [
    {
     "name": "stdout",
     "output_type": "stream",
     "text": [
      "803000\n",
      "['Vestal', 'Torres', 'Seth', 'Cordin']\n",
      "[385440, 353320, 40150, 24090]\n",
      "[48.0, 44.0, 5.0, 3.0]\n"
     ]
    }
   ],
   "source": [
    "with open (election_data_1_path, newline = \"\") as election_data_1_file:\n",
    "    election_data = csv.reader(election_data_1_file, delimiter = \",\")\n",
    "    election_data = list(election_data)\n",
    "    votes = \"whatever\"\n",
    "    candidate_name = \"whatever\"\n",
    "    votes_count = 0\n",
    "    candidates = []\n",
    "    \n",
    "    #The total number of months included in the dataset\n",
    "    for row in election_data[1:]:\n",
    "        if votes != row[0]:\n",
    "            votes = row[0]\n",
    "            votes_count += 1\n",
    "            \n",
    "    print(votes_count)\n",
    "    \n",
    "    for row in election_data[1:]:\n",
    "        if row[2] not in candidates:\n",
    "            candidates.append(row[2])\n",
    "    print(candidates)\n",
    "    \n",
    "    votes_per_candidates = []\n",
    "    \n",
    "    for i in range(4):\n",
    "        votes_personal = 0\n",
    "        for row in election_data[1:]:\n",
    "            if row[2] == candidates[i]:\n",
    "                votes_personal += 1\n",
    "        votes_per_candidates.append(votes_personal)\n",
    "    print(votes_per_candidates)\n",
    "    \n",
    "    personal_percentage = [(vote/votes_count)*100 for vote in votes_per_candidates ]\n",
    "    print(personal_percentage)"
   ]
  },
  {
   "cell_type": "code",
   "execution_count": 61,
   "metadata": {},
   "outputs": [
    {
     "name": "stdout",
     "output_type": "stream",
     "text": [
      "Election Results\n",
      "- - - - - - - - - - - - - - - - - - -\n",
      "Total Votes: 803000\n",
      "- - - - - - - - - - - - - - - - - - - -\n",
      "Vestal:48.0%\n",
      "Torres:44.0%\n",
      "Seth:5.0%\n",
      "Cordin:3.0%\n",
      "- - - - - - - - - - - - - - - - - - - -\n",
      "Winner:Vestal\n",
      "- - - - - - - - - - - - - - - - - - - -\n",
      "\n"
     ]
    }
   ],
   "source": [
    "#Conclution\n",
    "output = (\n",
    "f\"Election Results\\n\"\n",
    "f\"- - - - - - - - - - - - - - - - - - -\\n\"\n",
    "f\"Total Votes: {votes_count}\\n\"\n",
    "f\"- - - - - - - - - - - - - - - - - - - -\\n\"\n",
    "f\"{candidates[0]}:{personal_percentage[0]}%\\n\"\n",
    "f\"{candidates[1]}:{personal_percentage[1]}%\\n\"\n",
    "f\"{candidates[2]}:{personal_percentage[2]}%\\n\"\n",
    "f\"{candidates[3]}:{personal_percentage[3]}%\\n\"\n",
    "f\"- - - - - - - - - - - - - - - - - - - -\\n\"\n",
    "f\"Winner:{candidates[0]}\\n\"\n",
    "f\"- - - - - - - - - - - - - - - - - - - -\\n\")\n",
    "print(output)"
   ]
  },
  {
   "cell_type": "code",
   "execution_count": 76,
   "metadata": {},
   "outputs": [],
   "source": [
    "# Export the results to text file\n",
    "file_to_output = os.path.join(\"election_analysis_1.txt\")\n",
    "with open(file_to_output, \"w\") as txt_file:\n",
    "    txt_file.write(output)"
   ]
  },
  {
   "cell_type": "code",
   "execution_count": 73,
   "metadata": {},
   "outputs": [
    {
     "name": "stdout",
     "output_type": "stream",
     "text": [
      "3521001\n",
      "['Khan', 'Correy', 'Li', \"O'Tooley\"]\n",
      "[2218231, 704200, 492940, 105630]\n",
      "[63, 20, 14, 3]\n"
     ]
    }
   ],
   "source": [
    "with open (election_data_2_path, newline = \"\") as election_data_2_file:\n",
    "    election_data = csv.reader(election_data_2_file, delimiter = \",\")\n",
    "    election_data = list(election_data)\n",
    "    votes = \"whatever\"\n",
    "    candidate_name = \"whatever\"\n",
    "    votes_count = 0\n",
    "    candidates = []\n",
    "    \n",
    "    #The total number of months included in the dataset\n",
    "    for row in election_data[1:]:\n",
    "        if votes != row[0]:\n",
    "            votes = row[0]\n",
    "            votes_count += 1\n",
    "            \n",
    "    print(votes_count)\n",
    "    \n",
    "    for row in election_data[1:]:\n",
    "        if row[2] not in candidates:\n",
    "            candidates.append(row[2])\n",
    "    print(candidates)\n",
    "    \n",
    "    votes_per_candidates = []\n",
    "    \n",
    "    for i in range(4):\n",
    "        votes_personal = 0\n",
    "        for row in election_data[1:]:\n",
    "            if row[2] == candidates[i]:\n",
    "                votes_personal += 1\n",
    "        votes_per_candidates.append(votes_personal)\n",
    "    print(votes_per_candidates)\n",
    "    \n",
    "    personal_percentage = [round((vote/votes_count)*100) for vote in votes_per_candidates ]\n",
    "    print(personal_percentage)"
   ]
  },
  {
   "cell_type": "code",
   "execution_count": 74,
   "metadata": {},
   "outputs": [
    {
     "name": "stdout",
     "output_type": "stream",
     "text": [
      "Election Results\n",
      "- - - - - - - - - - - - - - - - - - -\n",
      "Total Votes: 3521001\n",
      "- - - - - - - - - - - - - - - - - - - -\n",
      "Khan:63%\n",
      "Correy:20%\n",
      "Li:14%\n",
      "O'Tooley:3%\n",
      "- - - - - - - - - - - - - - - - - - - -\n",
      "Winner:Khan\n",
      "- - - - - - - - - - - - - - - - - - - -\n",
      "\n"
     ]
    }
   ],
   "source": [
    "#Conclution\n",
    "output = (\n",
    "f\"Election Results\\n\"\n",
    "f\"- - - - - - - - - - - - - - - - - - -\\n\"\n",
    "f\"Total Votes: {votes_count}\\n\"\n",
    "f\"- - - - - - - - - - - - - - - - - - - -\\n\"\n",
    "f\"{candidates[0]}:{personal_percentage[0]}%\\n\"\n",
    "f\"{candidates[1]}:{personal_percentage[1]}%\\n\"\n",
    "f\"{candidates[2]}:{personal_percentage[2]}%\\n\"\n",
    "f\"{candidates[3]}:{personal_percentage[3]}%\\n\"\n",
    "f\"- - - - - - - - - - - - - - - - - - - -\\n\"\n",
    "f\"Winner:{candidates[0]}\\n\"\n",
    "f\"- - - - - - - - - - - - - - - - - - - -\\n\")\n",
    "print(output)"
   ]
  },
  {
   "cell_type": "code",
   "execution_count": 75,
   "metadata": {},
   "outputs": [],
   "source": [
    "# Export the results to text file\n",
    "file_to_output = os.path.join(\"election_analysis_2.txt\")\n",
    "with open(file_to_output, \"w\") as txt_file:\n",
    "    txt_file.write(output)"
   ]
  },
  {
   "cell_type": "code",
   "execution_count": null,
   "metadata": {},
   "outputs": [],
   "source": []
  }
 ],
 "metadata": {
  "kernelspec": {
   "display_name": "Python 3",
   "language": "python",
   "name": "python3"
  },
  "language_info": {
   "codemirror_mode": {
    "name": "ipython",
    "version": 3
   },
   "file_extension": ".py",
   "mimetype": "text/x-python",
   "name": "python",
   "nbconvert_exporter": "python",
   "pygments_lexer": "ipython3",
   "version": "3.6.4"
  }
 },
 "nbformat": 4,
 "nbformat_minor": 2
}
