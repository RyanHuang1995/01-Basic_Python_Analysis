{
 "cells": [
  {
   "cell_type": "code",
   "execution_count": 5,
   "metadata": {},
   "outputs": [],
   "source": [
    "#Dependencie Setting\n",
    "import csv\n",
    "import os\n",
    "import datetime\n",
    "employee_data_1_path = \"employee_data1.csv\"\n",
    "employee_data_2_path = \"employee_data2.csv\"\n",
    "clean_file_1 = os.path.join(\"employee_data_reformatted1.csv\")\n",
    "clean_file_2 = os.path.join(\"employee_data_reformatted2.csv\")"
   ]
  },
  {
   "cell_type": "code",
   "execution_count": 6,
   "metadata": {},
   "outputs": [
    {
     "name": "stdout",
     "output_type": "stream",
     "text": [
      "MN\n"
     ]
    }
   ],
   "source": [
    "us_state_abbrev = {\n",
    "    'Alabama': 'AL',\n",
    "    'Alaska': 'AK',\n",
    "    'Arizona': 'AZ',\n",
    "    'Arkansas': 'AR',\n",
    "    'California': 'CA',\n",
    "    'Colorado': 'CO',\n",
    "    'Connecticut': 'CT',\n",
    "    'Delaware': 'DE',\n",
    "    'Florida': 'FL',\n",
    "    'Georgia': 'GA',\n",
    "    'Hawaii': 'HI',\n",
    "    'Idaho': 'ID',\n",
    "    'Illinois': 'IL',\n",
    "    'Indiana': 'IN',\n",
    "    'Iowa': 'IA',\n",
    "    'Kansas': 'KS',\n",
    "    'Kentucky': 'KY',\n",
    "    'Louisiana': 'LA',\n",
    "    'Maine': 'ME',\n",
    "    'Maryland': 'MD',\n",
    "    'Massachusetts': 'MA',\n",
    "    'Michigan': 'MI',\n",
    "    'Minnesota': 'MN',\n",
    "    'Mississippi': 'MS',\n",
    "    'Missouri': 'MO',\n",
    "    'Montana': 'MT',\n",
    "    'Nebraska': 'NE',\n",
    "    'Nevada': 'NV',\n",
    "    'New Hampshire': 'NH',\n",
    "    'New Jersey': 'NJ',\n",
    "    'New Mexico': 'NM',\n",
    "    'New York': 'NY',\n",
    "    'North Carolina': 'NC',\n",
    "    'North Dakota': 'ND',\n",
    "    'Ohio': 'OH',\n",
    "    'Oklahoma': 'OK',\n",
    "    'Oregon': 'OR',\n",
    "    'Pennsylvania': 'PA',\n",
    "    'Rhode Island': 'RI',\n",
    "    'South Carolina': 'SC',\n",
    "    'South Dakota': 'SD',\n",
    "    'Tennessee': 'TN',\n",
    "    'Texas': 'TX',\n",
    "    'Utah': 'UT',\n",
    "    'Vermont': 'VT',\n",
    "    'Virginia': 'VA',\n",
    "    'Washington': 'WA',\n",
    "    'West Virginia': 'WV',\n",
    "    'Wisconsin': 'WI',\n",
    "    'Wyoming': 'WY',\n",
    "}\n",
    "print(us_state_abbrev[\"Minnesota\"])\n"
   ]
  },
  {
   "cell_type": "code",
   "execution_count": 7,
   "metadata": {},
   "outputs": [],
   "source": [
    "# Reformatting data\n",
    "First_name =[]\n",
    "Last_name = []\n",
    "DOB = []\n",
    "SSN = []\n",
    "State = []\n",
    "\n",
    "with open(employee_data_1_path, newline=\"\") as employee_data_1_file:\n",
    "    employee_data = csv.reader(employee_data_1_file, delimiter = \",\")\n",
    "    employee_data = list(employee_data)\n",
    "    for row in employee_data[1:]:\n",
    "        First_name.append(row[1].split()[0])\n",
    "        Last_name.append(row[1].split()[1])\n",
    "        DOB.append(datetime.datetime.strptime(row[2], '%Y-%m-%d').strftime('%m/%d/%y'))\n",
    "        SSN.append(row[3].replace(row[3][0:3],\"***\").replace(row[3][4:6],\"**\"))\n",
    "        State.append(us_state_abbrev[row[4]])\n",
    "    \n",
    "cleaned_data = zip(First_name,Last_name,DOB,SSN,State)"
   ]
  },
  {
   "cell_type": "code",
   "execution_count": 8,
   "metadata": {},
   "outputs": [],
   "source": [
    "#Output\n",
    "with open(clean_file_1, \"w\", newline=\"\") as datafile:\n",
    "    writer = csv.writer(datafile)\n",
    "    writer.writerow([\"Emp ID\", \"First Name\", \"Last Name\",\n",
    "                     \"DOB\", \"SSN\", \"State\"])\n",
    "    writer.writerows(cleaned_data)\n"
   ]
  },
  {
   "cell_type": "code",
   "execution_count": 9,
   "metadata": {},
   "outputs": [],
   "source": [
    "# Reformatting data\n",
    "First_name =[]\n",
    "Last_name = []\n",
    "DOB = []\n",
    "SSN = []\n",
    "State = []\n",
    "\n",
    "with open(employee_data_2_path, newline=\"\") as employee_data_2_file:\n",
    "    employee_data = csv.reader(employee_data_2_file, delimiter = \",\")\n",
    "    employee_data = list(employee_data)\n",
    "    for row in employee_data[1:]:\n",
    "        First_name.append(row[1].split()[0])\n",
    "        Last_name.append(row[1].split()[1])\n",
    "        DOB.append(datetime.datetime.strptime(row[2], '%Y-%m-%d').strftime('%m/%d/%y'))\n",
    "        SSN.append(row[3].replace(row[3][0:3],\"***\").replace(row[3][4:6],\"**\"))\n",
    "        State.append(us_state_abbrev[row[4]])\n",
    "    \n",
    "cleaned_data = zip(First_name,Last_name,DOB,SSN,State)"
   ]
  },
  {
   "cell_type": "code",
   "execution_count": 10,
   "metadata": {},
   "outputs": [],
   "source": [
    "#Output\n",
    "with open(clean_file_2, \"w\", newline=\"\") as datafile:\n",
    "    writer = csv.writer(datafile)\n",
    "    writer.writerow([\"Emp ID\", \"First Name\", \"Last Name\",\n",
    "                     \"DOB\", \"SSN\", \"State\"])\n",
    "    writer.writerows(cleaned_data)"
   ]
  }
 ],
 "metadata": {
  "kernelspec": {
   "display_name": "Python 3",
   "language": "python",
   "name": "python3"
  },
  "language_info": {
   "codemirror_mode": {
    "name": "ipython",
    "version": 3
   },
   "file_extension": ".py",
   "mimetype": "text/x-python",
   "name": "python",
   "nbconvert_exporter": "python",
   "pygments_lexer": "ipython3",
   "version": "3.6.4"
  }
 },
 "nbformat": 4,
 "nbformat_minor": 2
}
