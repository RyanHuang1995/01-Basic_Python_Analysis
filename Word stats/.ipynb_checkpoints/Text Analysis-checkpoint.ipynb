{
 "cells": [
  {
   "cell_type": "code",
   "execution_count": 26,
   "metadata": {},
   "outputs": [],
   "source": [
    "#Dependencie Setting\n",
    "import csv\n",
    "import os\n",
    "import re\n",
    "paragraph_1_path = \"paragraph_1.txt\"\n",
    "paragraph_2_path = \"paragraph_2.txt\""
   ]
  },
  {
   "cell_type": "code",
   "execution_count": 50,
   "metadata": {},
   "outputs": [],
   "source": [
    "#Read the file and count words\n",
    "with open(paragraph_1_path,encoding=\"utf-8\") as txt_data:\n",
    "\n",
    "    # Store the contents as a string (with no new lines)\n",
    "    paragraph = txt_data.read()\n",
    "    \n",
    "\n",
    "# Split the paragraph based on spaces to calculate word count\n",
    "word_split = paragraph.split(\" \")\n",
    "word_count = len(word_split)"
   ]
  },
  {
   "cell_type": "code",
   "execution_count": 51,
   "metadata": {},
   "outputs": [],
   "source": [
    "#letter count\n",
    "letter_count = []\n",
    "\n",
    "for word in word_split:\n",
    "    letter_count.append(len(word))\n",
    "    \n",
    "avg_letter = sum(letter_count)/len(letter_count)"
   ]
  },
  {
   "cell_type": "code",
   "execution_count": 62,
   "metadata": {},
   "outputs": [],
   "source": [
    "#Sentence count\n",
    "#Read the file and count words\n",
    "with open(paragraph_1_path,encoding=\"utf-8\") as txt_data:\n",
    "\n",
    "    # Store the contents as a string (with no new lines)\n",
    "    paragraph = txt_data.read()\n",
    "sentences = re.split(r' *[\\.\\?!][\\'\"\\)\\]]* *', paragraph)\n",
    "del sentences[-1]\n",
    "sentence_count = len(sentences)\n",
    "\n",
    "every_sentence_length = []\n",
    "\n",
    "for sentence in sentences:\n",
    "    every_sentence_length.append(len(sentence.split(\" \")))\n",
    "avg_sentence_length = sum(every_sentence_length)/len(every_sentence_length)\n"
   ]
  },
  {
   "cell_type": "code",
   "execution_count": 63,
   "metadata": {},
   "outputs": [
    {
     "name": "stdout",
     "output_type": "stream",
     "text": [
      "Paragraph Analysis \n",
      "----------------- \n",
      "Approximate Word Count: 130\n",
      "Approximate Sentence Count: 5\n",
      "Average Letter Count: 6.392307692307693\n",
      "Average Sentence Length: 26.0\n",
      "\n"
     ]
    }
   ],
   "source": [
    "output = (\n",
    "f\"Paragraph Analysis \\n\"\n",
    "f\"----------------- \\n\"    \n",
    "f\"Approximate Word Count: {word_count}\\n\"\n",
    "f\"Approximate Sentence Count: {sentence_count}\\n\"\n",
    "f\"Average Letter Count: {avg_letter}\\n\"\n",
    "f\"Average Sentence Length: {avg_sentence_length}\\n\"\n",
    ")\n",
    "print(output)"
   ]
  },
  {
   "cell_type": "code",
   "execution_count": 64,
   "metadata": {},
   "outputs": [],
   "source": [
    "#Read the file and count words\n",
    "with open(paragraph_2_path,encoding=\"utf-8\") as txt_data:\n",
    "\n",
    "    # Store the contents as a string (with no new lines)\n",
    "    paragraph = txt_data.read()\n",
    "    \n",
    "\n",
    "# Split the paragraph based on spaces to calculate word count\n",
    "word_split = paragraph.split(\" \")\n",
    "word_count = len(word_split)"
   ]
  },
  {
   "cell_type": "code",
   "execution_count": 65,
   "metadata": {},
   "outputs": [],
   "source": [
    "#letter count\n",
    "letter_count = []\n",
    "\n",
    "for word in word_split:\n",
    "    letter_count.append(len(word))\n",
    "    \n",
    "avg_letter = sum(letter_count)/len(letter_count)"
   ]
  },
  {
   "cell_type": "code",
   "execution_count": 71,
   "metadata": {},
   "outputs": [],
   "source": [
    "#Sentence count\n",
    "#Read the file and count words\n",
    "with open(paragraph_1_path,encoding=\"utf-8\") as txt_data:\n",
    "\n",
    "    # Store the contents as a string (with no new lines)\n",
    "    paragraph = txt_data.read()\n",
    "sentences = re.split(r' *[\\.\\?!][\\'\"\\)\\]]* *', paragraph)\n",
    "del sentences[-1]\n",
    "sentence_count = len(sentences)\n",
    "\n",
    "every_sentence_length = []\n",
    "\n",
    "for sentence in sentences:\n",
    "    every_sentence_length.append(len(sentence.split(\" \")))\n",
    "avg_sentence_length = sum(every_sentence_length)/len(every_sentence_length)"
   ]
  },
  {
   "cell_type": "code",
   "execution_count": 72,
   "metadata": {},
   "outputs": [
    {
     "name": "stdout",
     "output_type": "stream",
     "text": [
      "Paragraph Analysis \n",
      "----------------- \n",
      "Approximate Word Count: 276\n",
      "Approximate Sentence Count: 5\n",
      "Average Letter Count: 5.4855072463768115\n",
      "Average Sentence Length: 26.0\n",
      "\n"
     ]
    }
   ],
   "source": [
    "output = (\n",
    "f\"Paragraph Analysis \\n\"\n",
    "f\"----------------- \\n\"    \n",
    "f\"Approximate Word Count: {word_count}\\n\"\n",
    "f\"Approximate Sentence Count: {sentence_count}\\n\"\n",
    "f\"Average Letter Count: {avg_letter}\\n\"\n",
    "f\"Average Sentence Length: {avg_sentence_length}\\n\"\n",
    ")\n",
    "print(output)"
   ]
  }
 ],
 "metadata": {
  "kernelspec": {
   "display_name": "Python 3",
   "language": "python",
   "name": "python3"
  },
  "language_info": {
   "codemirror_mode": {
    "name": "ipython",
    "version": 3
   },
   "file_extension": ".py",
   "mimetype": "text/x-python",
   "name": "python",
   "nbconvert_exporter": "python",
   "pygments_lexer": "ipython3",
   "version": "3.6.4"
  }
 },
 "nbformat": 4,
 "nbformat_minor": 2
}
